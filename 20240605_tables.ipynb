{
 "cells": [
  {
   "cell_type": "code",
   "execution_count": 15,
   "metadata": {},
   "outputs": [],
   "source": [
    "import os\n",
    "import json\n",
    "import pandas as pd"
   ]
  },
  {
   "cell_type": "markdown",
   "metadata": {},
   "source": [
    "#### 2D"
   ]
  },
  {
   "cell_type": "markdown",
   "metadata": {},
   "source": [
    "#### 3D"
   ]
  },
  {
   "cell_type": "code",
   "execution_count": 28,
   "metadata": {},
   "outputs": [
    {
     "name": "stdout",
     "output_type": "stream",
     "text": [
      "| Name                     | Identification           | Class               | Paper                                                                                                                                               | Authors                                                  |   Year | URL                                                                        | URL2                                                                           | Equipment                                | Description                                                                                              | Modifications   | Status   |\n",
      "|:-------------------------|:-------------------------|:--------------------|:----------------------------------------------------------------------------------------------------------------------------------------------------|:---------------------------------------------------------|-------:|:---------------------------------------------------------------------------|:-------------------------------------------------------------------------------|:-----------------------------------------|:---------------------------------------------------------------------------------------------------------|:----------------|:---------|\n",
      "| Biomass_evaluation_LIDAR | Biomass_evaluation_LIDAR | Trees - No leaves   | Advancing Fine Branch Biomass Estimation with Lidar and Structural Models                                                                           |                                                          |   2024 | https://github.com/VEZY/Biomass_evaluation_LiDAR                           |                                                                                | Riegl VZ-400                             | Walnut trees without leaves                                                                              | None            | Raw      |\n",
      "| Blueberries              | Blueberries              | Bush - With leaves  | 3D point cloud data to quantitatively characterize size and shape of shrub crops                                                                    | Jiang                                                    |   2019 | https://doi.org/10.1038/s41438-019-0123-9                                  | https://figshare.com/s/2abb4eeadfda4103545b                                    | ZEB1 scanner                             | 47 bushes of raspberry plants with leaves                                                                | None            | Raw      |\n",
      "| Brocoli                  | Brocoli                  | Organ               | Image-based size estimation of broccoli heads under varying degrees of occlusion                                                                    | Blok, P., van Henten, E., van Evert, F. and Kootstra, G. |   2021 | https://doi.org/10.1016/j.biosystemseng.2021.06.001                        | https://git.wur.nl/blok012/sizecnn                                             | RGBD - Realsense D435                    | Brocoli heads for occlusion studies                                                                      | None            | Raw      |\n",
      "| cacao_cameroon           | cacao_cameroon           | Trees - With leaves | Terrestrial LiDAR point cloud dataset of cocoa trees grown in agroforestry systems in Cameroon                                                      | Peynaud, E. and Momo, S.                                 |   2024 | https://doi.org/10.1016/j.dib.2024.110108                                  | https://dataverse.cirad.fr/dataset.xhtml?persistentId=doi:10.18167/DVN1/5HZB1F | Leica C10                                | Cocoa tree point clouds obtained by terrestrial Lidar scanning (TLS) in agroforestry systems in Cameroon | None            | Raw      |\n",
      "| FOR-instance             | FOR-instance             | Trees - With leaves | FOR-instance (FOR-instance: a UAV laser scanning benchmark dataset for semantic and instance segmentation of individual trees)                      | Puliti et al                                             |   2023 | https://arxiv.org/abs/2309.01279                                           |                                                                                | Riegl - Multiple sensors                 | Trees datasets                                                                                           | None            | Raw      |\n",
      "| ROSE-X                   | ROSE-X                   | Bush - With leaves  | ROSE-X: an annotated data set for evaluation of 3D plant organ segmentation methods                                                                 | Dutagaci et al                                           |   2020 | https://plantmethods.biomedcentral.com/articles/10.1186/s13007-020-00573-w |                                                                                | Siemens X-ray                            | Rose plants on 3D                                                                                        | None            | Raw      |\n",
      "| TUMBA                    |                          | Trees - With leaves | Tumbarumba Wet Eucalypt Terrestrial LiDAR, 2022                                                                                                     | Shaun et al                                              |   2022 | https://researchdata.edu.au/tumbarumba-wet-eucalypt-lidar-2022/2766669     |                                                                                | Riegl VZ-2000i Terrestrial Laser Scanner | Australian eucalyptus                                                                                    | None            | Raw      |\n",
      "| VineLIDAR                | VineLIDAR                | Bush - With leaves  | High resolution LiDAR dataset acquired using UAV (unmanned aerial vehicle) over two vineyards and two years located in 'TomiÃ±o', Pontevedra, Spain | VÃ©lez, S., Ariza-SentÃ­s, M., & Valente, J.              |   2023 | https://zenodo.org/records/8113105                                         |                                                                                | DJI Zenmuse L1                           | High-resolution UAV-LiDAR vineyard dataset acquired over two years in northern Spain                     | None            | Raw      |\n"
     ]
    }
   ],
   "source": [
    "with open(os.getcwd() + '/3D/database.json') as file:\n",
    "\tdb = json.load(file)\n",
    "db = pd.json_normalize(db['Datasets'])\n",
    "print(db.to_markdown(index=False))"
   ]
  },
  {
   "cell_type": "code",
   "execution_count": null,
   "metadata": {},
   "outputs": [],
   "source": []
  }
 ],
 "metadata": {
  "kernelspec": {
   "display_name": "AGS_3_12_3_venv",
   "language": "python",
   "name": "python3"
  },
  "language_info": {
   "codemirror_mode": {
    "name": "ipython",
    "version": 3
   },
   "file_extension": ".py",
   "mimetype": "text/x-python",
   "name": "python",
   "nbconvert_exporter": "python",
   "pygments_lexer": "ipython3",
   "version": "3.12.3"
  }
 },
 "nbformat": 4,
 "nbformat_minor": 2
}
