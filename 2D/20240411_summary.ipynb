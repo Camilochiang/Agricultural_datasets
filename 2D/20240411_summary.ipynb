{
 "cells": [
  {
   "cell_type": "code",
   "execution_count": 1,
   "metadata": {},
   "outputs": [],
   "source": [
    "import json\n",
    "import os\n",
    "\n",
    "if os.name == 'nt':\n",
    "    # Running in windows directly\n",
    "    SER_PATH = \"O:/Data-Raw\"\n",
    "else:\n",
    "    if os.getenv('JUPYTERHUB_HTTP_REFERER') is not None:\n",
    "        SER_PATH = \"/mnt/Data-Raw-RE\"\n",
    "    else:\n",
    "        hostname = !hostname\n",
    "        # Linux: To be run in our server or directly using VM\n",
    "        SER_PATH = \"/home/\" + hostname[0] + \"/o_drive/Data-Raw\""
   ]
  },
  {
   "cell_type": "code",
   "execution_count": 10,
   "metadata": {},
   "outputs": [],
   "source": [
    "PATH = SER_PATH + '/26_Agricultural_Engineering-RE/263_DP/03_Persoenliche_Unterlagen/cach/5_Datasets/2D'\n",
    "# read json file\n",
    "with open(PATH + '/datasets.json') as f:\n",
    "    data = json.load(f)\n",
    "data = [x for x in data['Datasets'] if 'Status' in x.keys()]"
   ]
  },
  {
   "cell_type": "code",
   "execution_count": 11,
   "metadata": {},
   "outputs": [
    {
     "name": "stdout",
     "output_type": "stream",
     "text": [
      "5\n",
      "\t ACFR Orchard Fruit Dataset\n",
      "\t ACFR Orchard Fruit Dataset\n",
      "\t ACFR Orchard Fruit Dataset\n",
      "\t Agroscope apple\n",
      "\t laboro_tomato\n"
     ]
    }
   ],
   "source": [
    "print(len(data))\n",
    "for x in data:\n",
    "\tprint('\\t', x['Name'])"
   ]
  }
 ],
 "metadata": {
  "kernelspec": {
   "display_name": "Agroscope_3_10",
   "language": "python",
   "name": "python3"
  },
  "language_info": {
   "codemirror_mode": {
    "name": "ipython",
    "version": 3
   },
   "file_extension": ".py",
   "mimetype": "text/x-python",
   "name": "python",
   "nbconvert_exporter": "python",
   "pygments_lexer": "ipython3",
   "version": "3.10.0"
  }
 },
 "nbformat": 4,
 "nbformat_minor": 2
}
